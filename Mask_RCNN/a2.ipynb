{
 "cells": [
  {
   "cell_type": "markdown",
   "metadata": {
    "colab_type": "text",
    "id": "vvPtbBCe-1ls"
   },
   "source": [
    "**Assignment  2**\n",
    "\n",
    "**Interesting/Not entresting Bacterium Classification**\n",
    "\n",
    "**-Shantanu Hadap**"
   ]
  },
  {
   "cell_type": "markdown",
   "metadata": {
    "colab_type": "text",
    "id": "67Yf6hg-pV8A"
   },
   "source": [
    "**Import Required Libraries**"
   ]
  },
  {
   "cell_type": "code",
   "execution_count": 1,
   "metadata": {
    "colab": {},
    "colab_type": "code",
    "id": "rP1Fhkc3pQJt"
   },
   "outputs": [
    {
     "name": "stderr",
     "output_type": "stream",
     "text": [
      "Using TensorFlow backend.\n"
     ]
    }
   ],
   "source": [
    "# Load the sequencial libraries from keras \n",
    "from keras.models import Sequential\n",
    "# Load the dense libraries from keras \n",
    "from keras.layers import Dense\n",
    "# Load the numpy libraries with alias 'np' \n",
    "import numpy as np\n",
    "# Load the matplotlib.pyplot libraries with alias 'plt' \n",
    "import matplotlib.pyplot as plt\n",
    "import seaborn as sns\n",
    "# Load the Pandas libraries with alias 'pd' \n",
    "import pandas as pd \n",
    "# Load libraries from sklearn\n",
    "from sklearn.preprocessing import OneHotEncoder,StandardScaler\n",
    "from sklearn.model_selection import train_test_split\n",
    "from sklearn.metrics import classification_report\n",
    "from sklearn.metrics import roc_curve,accuracy_score,precision_score,recall_score,f1_score,roc_auc_score"
   ]
  },
  {
   "cell_type": "markdown",
   "metadata": {
    "colab_type": "text",
    "id": "oCZ_UYrrqQvq"
   },
   "source": [
    "**Import Dataset**"
   ]
  },
  {
   "cell_type": "code",
   "execution_count": 2,
   "metadata": {
    "colab": {
     "base_uri": "https://localhost:8080/",
     "height": 74,
     "resources": {
      "http://localhost:8080/nbextensions/google.colab/files.js": {
       "data": "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",
       "headers": [
        [
         "content-type",
         "application/javascript"
        ]
       ],
       "ok": true,
       "status": 200,
       "status_text": ""
      }
     }
    },
    "colab_type": "code",
    "id": "P4-idVIip3Lh",
    "outputId": "5c13accc-e8f6-4202-c50e-6888a875cef9"
   },
   "outputs": [],
   "source": [
    "# Read data from file 'CellDNA.csv' \n",
    "dataset = pd.read_csv('C:\\\\tmp\\\\CellDNA.csv')\n",
    "#from google.colab import files\n",
    "#uploaded = files.upload()\n",
    "#import io\n",
    "#dataset = pd.read_csv(io.BytesIO(uploaded['CellDNA.csv']))"
   ]
  },
  {
   "cell_type": "markdown",
   "metadata": {
    "colab_type": "text",
    "id": "dT6HA5x1ukvH"
   },
   "source": [
    "**Explore Data**\n",
    "\n",
    "\n",
    "\n",
    "```\n",
    "The dataset has 13 features and 1217 samples \n",
    "```\n",
    "\n"
   ]
  },
  {
   "cell_type": "code",
   "execution_count": 3,
   "metadata": {
    "colab": {
     "base_uri": "https://localhost:8080/",
     "height": 34
    },
    "colab_type": "code",
    "id": "AYGK3_DLrMYP",
    "outputId": "00f8ae15-97c4-4148-9941-ef6945501146"
   },
   "outputs": [
    {
     "data": {
      "text/plain": [
       "(1217, 14)"
      ]
     },
     "execution_count": 3,
     "metadata": {},
     "output_type": "execute_result"
    }
   ],
   "source": [
    "# Check the size of data\n",
    "dataset.shape"
   ]
  },
  {
   "cell_type": "code",
   "execution_count": 4,
   "metadata": {
    "colab": {
     "base_uri": "https://localhost:8080/",
     "height": 204
    },
    "colab_type": "code",
    "id": "y35eu8XNu3Tt",
    "outputId": "45b94961-b3db-4194-a547-a7341d492e32"
   },
   "outputs": [
    {
     "data": {
      "text/html": [
       "<div>\n",
       "<style scoped>\n",
       "    .dataframe tbody tr th:only-of-type {\n",
       "        vertical-align: middle;\n",
       "    }\n",
       "\n",
       "    .dataframe tbody tr th {\n",
       "        vertical-align: top;\n",
       "    }\n",
       "\n",
       "    .dataframe thead th {\n",
       "        text-align: right;\n",
       "    }\n",
       "</style>\n",
       "<table border=\"1\" class=\"dataframe\">\n",
       "  <thead>\n",
       "    <tr style=\"text-align: right;\">\n",
       "      <th></th>\n",
       "      <th>x1</th>\n",
       "      <th>x2</th>\n",
       "      <th>x3</th>\n",
       "      <th>x4</th>\n",
       "      <th>x5</th>\n",
       "      <th>x6</th>\n",
       "      <th>x7</th>\n",
       "      <th>x8</th>\n",
       "      <th>x9</th>\n",
       "      <th>x10</th>\n",
       "      <th>x11</th>\n",
       "      <th>x12</th>\n",
       "      <th>x13</th>\n",
       "      <th>y</th>\n",
       "    </tr>\n",
       "  </thead>\n",
       "  <tbody>\n",
       "    <tr>\n",
       "      <td>0</td>\n",
       "      <td>222</td>\n",
       "      <td>31.189189</td>\n",
       "      <td>40.342342</td>\n",
       "      <td>35.579087</td>\n",
       "      <td>8.883917</td>\n",
       "      <td>0.968325</td>\n",
       "      <td>-80.113673</td>\n",
       "      <td>222</td>\n",
       "      <td>1</td>\n",
       "      <td>16.812471</td>\n",
       "      <td>0.816176</td>\n",
       "      <td>0.578125</td>\n",
       "      <td>78.591</td>\n",
       "      <td>0</td>\n",
       "    </tr>\n",
       "    <tr>\n",
       "      <td>1</td>\n",
       "      <td>73</td>\n",
       "      <td>29.493151</td>\n",
       "      <td>271.397260</td>\n",
       "      <td>15.517202</td>\n",
       "      <td>6.407490</td>\n",
       "      <td>0.910764</td>\n",
       "      <td>76.042946</td>\n",
       "      <td>73</td>\n",
       "      <td>1</td>\n",
       "      <td>9.640876</td>\n",
       "      <td>0.858824</td>\n",
       "      <td>0.608333</td>\n",
       "      <td>39.217</td>\n",
       "      <td>0</td>\n",
       "    </tr>\n",
       "    <tr>\n",
       "      <td>2</td>\n",
       "      <td>256</td>\n",
       "      <td>58.816406</td>\n",
       "      <td>289.941406</td>\n",
       "      <td>37.226013</td>\n",
       "      <td>9.863895</td>\n",
       "      <td>0.964256</td>\n",
       "      <td>85.324742</td>\n",
       "      <td>256</td>\n",
       "      <td>1</td>\n",
       "      <td>18.054067</td>\n",
       "      <td>0.752941</td>\n",
       "      <td>0.562637</td>\n",
       "      <td>89.111</td>\n",
       "      <td>0</td>\n",
       "    </tr>\n",
       "    <tr>\n",
       "      <td>3</td>\n",
       "      <td>126</td>\n",
       "      <td>71.023810</td>\n",
       "      <td>477.412698</td>\n",
       "      <td>13.112980</td>\n",
       "      <td>12.790672</td>\n",
       "      <td>0.220351</td>\n",
       "      <td>63.523477</td>\n",
       "      <td>126</td>\n",
       "      <td>1</td>\n",
       "      <td>12.666025</td>\n",
       "      <td>0.881119</td>\n",
       "      <td>0.646154</td>\n",
       "      <td>43.832</td>\n",
       "      <td>0</td>\n",
       "    </tr>\n",
       "    <tr>\n",
       "      <td>4</td>\n",
       "      <td>225</td>\n",
       "      <td>90.808889</td>\n",
       "      <td>541.946667</td>\n",
       "      <td>44.463110</td>\n",
       "      <td>7.858879</td>\n",
       "      <td>0.984256</td>\n",
       "      <td>-52.874983</td>\n",
       "      <td>225</td>\n",
       "      <td>1</td>\n",
       "      <td>16.925688</td>\n",
       "      <td>0.728155</td>\n",
       "      <td>0.252525</td>\n",
       "      <td>90.072</td>\n",
       "      <td>7</td>\n",
       "    </tr>\n",
       "  </tbody>\n",
       "</table>\n",
       "</div>"
      ],
      "text/plain": [
       "    x1         x2          x3         x4         x5        x6         x7   x8  \\\n",
       "0  222  31.189189   40.342342  35.579087   8.883917  0.968325 -80.113673  222   \n",
       "1   73  29.493151  271.397260  15.517202   6.407490  0.910764  76.042946   73   \n",
       "2  256  58.816406  289.941406  37.226013   9.863895  0.964256  85.324742  256   \n",
       "3  126  71.023810  477.412698  13.112980  12.790672  0.220351  63.523477  126   \n",
       "4  225  90.808889  541.946667  44.463110   7.858879  0.984256 -52.874983  225   \n",
       "\n",
       "   x9        x10       x11       x12     x13  y  \n",
       "0   1  16.812471  0.816176  0.578125  78.591  0  \n",
       "1   1   9.640876  0.858824  0.608333  39.217  0  \n",
       "2   1  18.054067  0.752941  0.562637  89.111  0  \n",
       "3   1  12.666025  0.881119  0.646154  43.832  0  \n",
       "4   1  16.925688  0.728155  0.252525  90.072  7  "
      ]
     },
     "execution_count": 4,
     "metadata": {},
     "output_type": "execute_result"
    }
   ],
   "source": [
    "# Explore the features types\n",
    "dataset.head()"
   ]
  },
  {
   "cell_type": "markdown",
   "metadata": {
    "colab_type": "text",
    "id": "VlqZIWvz0owq"
   },
   "source": [
    "**Data Processing**\n",
    "\n",
    "\n",
    "```\n",
    "The dataset has no missing data\n",
    "The Target variable is converted into binary and than encoded using one hot encoder\n",
    "The features are on different scales, hence they are normalized (z score)\n",
    "```\n",
    "\n"
   ]
  },
  {
   "cell_type": "code",
   "execution_count": 5,
   "metadata": {
    "colab": {},
    "colab_type": "code",
    "id": "p4-nZJkyu-sl"
   },
   "outputs": [],
   "source": [
    "# Seperate the features and target\n",
    "X = dataset.iloc[:,:-1].values\n",
    "y = dataset.iloc[:,-1].values"
   ]
  },
  {
   "cell_type": "code",
   "execution_count": 6,
   "metadata": {
    "colab": {
     "base_uri": "https://localhost:8080/",
     "height": 255
    },
    "colab_type": "code",
    "id": "tj3Ii1kHEAS1",
    "outputId": "1dd2e02e-022d-4a3b-9944-8f371dbe6250"
   },
   "outputs": [
    {
     "data": {
      "text/plain": [
       "0     0\n",
       "1     0\n",
       "2     0\n",
       "3     0\n",
       "4     0\n",
       "5     0\n",
       "6     0\n",
       "7     0\n",
       "8     0\n",
       "9     0\n",
       "10    0\n",
       "11    0\n",
       "12    0\n",
       "dtype: int64"
      ]
     },
     "execution_count": 6,
     "metadata": {},
     "output_type": "execute_result"
    }
   ],
   "source": [
    "# Check null values in features\n",
    "pd.DataFrame(X).isnull().sum()\n",
    "# There are no null values in Features"
   ]
  },
  {
   "cell_type": "code",
   "execution_count": 7,
   "metadata": {
    "colab": {
     "base_uri": "https://localhost:8080/",
     "height": 51
    },
    "colab_type": "code",
    "id": "vqeHUorGE2Kl",
    "outputId": "3cb99deb-8e2e-43e0-edce-5ab89a9bb5e5"
   },
   "outputs": [
    {
     "data": {
      "text/plain": [
       "0    0\n",
       "dtype: int64"
      ]
     },
     "execution_count": 7,
     "metadata": {},
     "output_type": "execute_result"
    }
   ],
   "source": [
    "# Check null values in Target\n",
    "pd.DataFrame(y).isnull().sum()\n",
    "# There are no null values in Target"
   ]
  },
  {
   "cell_type": "code",
   "execution_count": 8,
   "metadata": {
    "colab": {
     "base_uri": "https://localhost:8080/",
     "height": 204
    },
    "colab_type": "code",
    "id": "MX2fc8IV0ql8",
    "outputId": "cd47786a-cced-4ba4-8cfa-e0ebf7ce932b"
   },
   "outputs": [
    {
     "data": {
      "text/html": [
       "<div>\n",
       "<style scoped>\n",
       "    .dataframe tbody tr th:only-of-type {\n",
       "        vertical-align: middle;\n",
       "    }\n",
       "\n",
       "    .dataframe tbody tr th {\n",
       "        vertical-align: top;\n",
       "    }\n",
       "\n",
       "    .dataframe thead th {\n",
       "        text-align: right;\n",
       "    }\n",
       "</style>\n",
       "<table border=\"1\" class=\"dataframe\">\n",
       "  <thead>\n",
       "    <tr style=\"text-align: right;\">\n",
       "      <th></th>\n",
       "      <th>0</th>\n",
       "      <th>1</th>\n",
       "      <th>2</th>\n",
       "      <th>3</th>\n",
       "      <th>4</th>\n",
       "      <th>5</th>\n",
       "      <th>6</th>\n",
       "      <th>7</th>\n",
       "      <th>8</th>\n",
       "      <th>9</th>\n",
       "      <th>10</th>\n",
       "      <th>11</th>\n",
       "      <th>12</th>\n",
       "    </tr>\n",
       "  </thead>\n",
       "  <tbody>\n",
       "    <tr>\n",
       "      <td>0</td>\n",
       "      <td>222.0</td>\n",
       "      <td>31.189189</td>\n",
       "      <td>40.342342</td>\n",
       "      <td>35.579087</td>\n",
       "      <td>8.883917</td>\n",
       "      <td>0.968325</td>\n",
       "      <td>-80.113673</td>\n",
       "      <td>222.0</td>\n",
       "      <td>1.0</td>\n",
       "      <td>16.812471</td>\n",
       "      <td>0.816176</td>\n",
       "      <td>0.578125</td>\n",
       "      <td>78.591</td>\n",
       "    </tr>\n",
       "    <tr>\n",
       "      <td>1</td>\n",
       "      <td>73.0</td>\n",
       "      <td>29.493151</td>\n",
       "      <td>271.397260</td>\n",
       "      <td>15.517202</td>\n",
       "      <td>6.407490</td>\n",
       "      <td>0.910764</td>\n",
       "      <td>76.042946</td>\n",
       "      <td>73.0</td>\n",
       "      <td>1.0</td>\n",
       "      <td>9.640876</td>\n",
       "      <td>0.858824</td>\n",
       "      <td>0.608333</td>\n",
       "      <td>39.217</td>\n",
       "    </tr>\n",
       "    <tr>\n",
       "      <td>2</td>\n",
       "      <td>256.0</td>\n",
       "      <td>58.816406</td>\n",
       "      <td>289.941406</td>\n",
       "      <td>37.226013</td>\n",
       "      <td>9.863895</td>\n",
       "      <td>0.964256</td>\n",
       "      <td>85.324742</td>\n",
       "      <td>256.0</td>\n",
       "      <td>1.0</td>\n",
       "      <td>18.054067</td>\n",
       "      <td>0.752941</td>\n",
       "      <td>0.562637</td>\n",
       "      <td>89.111</td>\n",
       "    </tr>\n",
       "    <tr>\n",
       "      <td>3</td>\n",
       "      <td>126.0</td>\n",
       "      <td>71.023810</td>\n",
       "      <td>477.412698</td>\n",
       "      <td>13.112980</td>\n",
       "      <td>12.790672</td>\n",
       "      <td>0.220351</td>\n",
       "      <td>63.523477</td>\n",
       "      <td>126.0</td>\n",
       "      <td>1.0</td>\n",
       "      <td>12.666025</td>\n",
       "      <td>0.881119</td>\n",
       "      <td>0.646154</td>\n",
       "      <td>43.832</td>\n",
       "    </tr>\n",
       "    <tr>\n",
       "      <td>4</td>\n",
       "      <td>225.0</td>\n",
       "      <td>90.808889</td>\n",
       "      <td>541.946667</td>\n",
       "      <td>44.463110</td>\n",
       "      <td>7.858879</td>\n",
       "      <td>0.984256</td>\n",
       "      <td>-52.874983</td>\n",
       "      <td>225.0</td>\n",
       "      <td>1.0</td>\n",
       "      <td>16.925688</td>\n",
       "      <td>0.728155</td>\n",
       "      <td>0.252525</td>\n",
       "      <td>90.072</td>\n",
       "    </tr>\n",
       "  </tbody>\n",
       "</table>\n",
       "</div>"
      ],
      "text/plain": [
       "       0          1           2          3          4         5          6  \\\n",
       "0  222.0  31.189189   40.342342  35.579087   8.883917  0.968325 -80.113673   \n",
       "1   73.0  29.493151  271.397260  15.517202   6.407490  0.910764  76.042946   \n",
       "2  256.0  58.816406  289.941406  37.226013   9.863895  0.964256  85.324742   \n",
       "3  126.0  71.023810  477.412698  13.112980  12.790672  0.220351  63.523477   \n",
       "4  225.0  90.808889  541.946667  44.463110   7.858879  0.984256 -52.874983   \n",
       "\n",
       "       7    8          9        10        11      12  \n",
       "0  222.0  1.0  16.812471  0.816176  0.578125  78.591  \n",
       "1   73.0  1.0   9.640876  0.858824  0.608333  39.217  \n",
       "2  256.0  1.0  18.054067  0.752941  0.562637  89.111  \n",
       "3  126.0  1.0  12.666025  0.881119  0.646154  43.832  \n",
       "4  225.0  1.0  16.925688  0.728155  0.252525  90.072  "
      ]
     },
     "execution_count": 8,
     "metadata": {},
     "output_type": "execute_result"
    }
   ],
   "source": [
    "# Analyze Features\n",
    "# Verify if there is any categorical feature which should be encoded\n",
    "pd.DataFrame(X).head(5)\n",
    "# No categorical features so no need for label and onehot encoding "
   ]
  },
  {
   "cell_type": "code",
   "execution_count": 9,
   "metadata": {
    "colab": {
     "base_uri": "https://localhost:8080/",
     "height": 204
    },
    "colab_type": "code",
    "id": "UBB-KSEO4yHZ",
    "outputId": "f38f69ac-be0f-4ded-f51f-be32d924ee45"
   },
   "outputs": [
    {
     "data": {
      "text/html": [
       "<div>\n",
       "<style scoped>\n",
       "    .dataframe tbody tr th:only-of-type {\n",
       "        vertical-align: middle;\n",
       "    }\n",
       "\n",
       "    .dataframe tbody tr th {\n",
       "        vertical-align: top;\n",
       "    }\n",
       "\n",
       "    .dataframe thead th {\n",
       "        text-align: right;\n",
       "    }\n",
       "</style>\n",
       "<table border=\"1\" class=\"dataframe\">\n",
       "  <thead>\n",
       "    <tr style=\"text-align: right;\">\n",
       "      <th></th>\n",
       "      <th>0</th>\n",
       "    </tr>\n",
       "  </thead>\n",
       "  <tbody>\n",
       "    <tr>\n",
       "      <td>0</td>\n",
       "      <td>0</td>\n",
       "    </tr>\n",
       "    <tr>\n",
       "      <td>1</td>\n",
       "      <td>0</td>\n",
       "    </tr>\n",
       "    <tr>\n",
       "      <td>2</td>\n",
       "      <td>0</td>\n",
       "    </tr>\n",
       "    <tr>\n",
       "      <td>3</td>\n",
       "      <td>0</td>\n",
       "    </tr>\n",
       "    <tr>\n",
       "      <td>4</td>\n",
       "      <td>7</td>\n",
       "    </tr>\n",
       "  </tbody>\n",
       "</table>\n",
       "</div>"
      ],
      "text/plain": [
       "   0\n",
       "0  0\n",
       "1  0\n",
       "2  0\n",
       "3  0\n",
       "4  7"
      ]
     },
     "execution_count": 9,
     "metadata": {},
     "output_type": "execute_result"
    }
   ],
   "source": [
    "# Analyze Target\n",
    "pd.DataFrame(y).head(5)"
   ]
  },
  {
   "cell_type": "code",
   "execution_count": 10,
   "metadata": {
    "colab": {
     "base_uri": "https://localhost:8080/",
     "height": 204
    },
    "colab_type": "code",
    "id": "m844LQiASFQB",
    "outputId": "386bfcac-6cf1-4c47-eeb2-bf7d140661fb"
   },
   "outputs": [
    {
     "data": {
      "text/html": [
       "<div>\n",
       "<style scoped>\n",
       "    .dataframe tbody tr th:only-of-type {\n",
       "        vertical-align: middle;\n",
       "    }\n",
       "\n",
       "    .dataframe tbody tr th {\n",
       "        vertical-align: top;\n",
       "    }\n",
       "\n",
       "    .dataframe thead th {\n",
       "        text-align: right;\n",
       "    }\n",
       "</style>\n",
       "<table border=\"1\" class=\"dataframe\">\n",
       "  <thead>\n",
       "    <tr style=\"text-align: right;\">\n",
       "      <th></th>\n",
       "      <th>0</th>\n",
       "    </tr>\n",
       "  </thead>\n",
       "  <tbody>\n",
       "    <tr>\n",
       "      <td>0</td>\n",
       "      <td>0</td>\n",
       "    </tr>\n",
       "    <tr>\n",
       "      <td>1</td>\n",
       "      <td>0</td>\n",
       "    </tr>\n",
       "    <tr>\n",
       "      <td>2</td>\n",
       "      <td>0</td>\n",
       "    </tr>\n",
       "    <tr>\n",
       "      <td>3</td>\n",
       "      <td>0</td>\n",
       "    </tr>\n",
       "    <tr>\n",
       "      <td>4</td>\n",
       "      <td>1</td>\n",
       "    </tr>\n",
       "  </tbody>\n",
       "</table>\n",
       "</div>"
      ],
      "text/plain": [
       "   0\n",
       "0  0\n",
       "1  0\n",
       "2  0\n",
       "3  0\n",
       "4  1"
      ]
     },
     "execution_count": 10,
     "metadata": {},
     "output_type": "execute_result"
    }
   ],
   "source": [
    "# Convert the target to binary values\n",
    "y_b=y\n",
    "y_b[y_b>1]=1\n",
    "pd.DataFrame(y_b).head(5)"
   ]
  },
  {
   "cell_type": "code",
   "execution_count": 11,
   "metadata": {
    "colab": {
     "base_uri": "https://localhost:8080/",
     "height": 204
    },
    "colab_type": "code",
    "id": "FRDM5-7eVc40",
    "outputId": "20e68fd1-0d49-436d-b868-1171872c1e7c"
   },
   "outputs": [
    {
     "data": {
      "text/html": [
       "<div>\n",
       "<style scoped>\n",
       "    .dataframe tbody tr th:only-of-type {\n",
       "        vertical-align: middle;\n",
       "    }\n",
       "\n",
       "    .dataframe tbody tr th {\n",
       "        vertical-align: top;\n",
       "    }\n",
       "\n",
       "    .dataframe thead th {\n",
       "        text-align: right;\n",
       "    }\n",
       "</style>\n",
       "<table border=\"1\" class=\"dataframe\">\n",
       "  <thead>\n",
       "    <tr style=\"text-align: right;\">\n",
       "      <th></th>\n",
       "      <th>0</th>\n",
       "      <th>1</th>\n",
       "    </tr>\n",
       "  </thead>\n",
       "  <tbody>\n",
       "    <tr>\n",
       "      <td>0</td>\n",
       "      <td>1.0</td>\n",
       "      <td>0.0</td>\n",
       "    </tr>\n",
       "    <tr>\n",
       "      <td>1</td>\n",
       "      <td>1.0</td>\n",
       "      <td>0.0</td>\n",
       "    </tr>\n",
       "    <tr>\n",
       "      <td>2</td>\n",
       "      <td>1.0</td>\n",
       "      <td>0.0</td>\n",
       "    </tr>\n",
       "    <tr>\n",
       "      <td>3</td>\n",
       "      <td>1.0</td>\n",
       "      <td>0.0</td>\n",
       "    </tr>\n",
       "    <tr>\n",
       "      <td>4</td>\n",
       "      <td>0.0</td>\n",
       "      <td>1.0</td>\n",
       "    </tr>\n",
       "  </tbody>\n",
       "</table>\n",
       "</div>"
      ],
      "text/plain": [
       "     0    1\n",
       "0  1.0  0.0\n",
       "1  1.0  0.0\n",
       "2  1.0  0.0\n",
       "3  1.0  0.0\n",
       "4  0.0  1.0"
      ]
     },
     "execution_count": 11,
     "metadata": {},
     "output_type": "execute_result"
    }
   ],
   "source": [
    "# As I will be using Softmax layer for classification, I am doing one hot encoding\n",
    "ohe = OneHotEncoder(sparse=False,categories=\"auto\")\n",
    "y_rhp = y_b.reshape(len(y_b), 1)\n",
    "y_en = ohe.fit_transform(y_rhp)\n",
    "pd.DataFrame(y_en).head()"
   ]
  },
  {
   "cell_type": "code",
   "execution_count": 12,
   "metadata": {
    "colab": {
     "base_uri": "https://localhost:8080/",
     "height": 269
    },
    "colab_type": "code",
    "id": "jRsr54kc4zLg",
    "outputId": "32a58800-5e38-4c0d-b531-3571bdace83a"
   },
   "outputs": [
    {
     "data": {
      "image/png": "[encoded data removed]",
      "text/plain": [
       "<Figure size 432x288 with 1 Axes>"
      ]
     },
     "metadata": {
      "needs_background": "light"
     },
     "output_type": "display_data"
    }
   ],
   "source": [
    "# Find the units/scale of features\n",
    "fig, axs = plt.subplots()\n",
    "axs.boxplot(X)\n",
    "plt.show()"
   ]
  },
  {
   "cell_type": "code",
   "execution_count": 13,
   "metadata": {
    "colab": {
     "base_uri": "https://localhost:8080/",
     "height": 269
    },
    "colab_type": "code",
    "id": "ewabHr0B-DYE",
    "outputId": "e0e5195e-ecff-45a1-92a7-251a33dc582f"
   },
   "outputs": [
    {
     "data": {
      "image/png": "[encoded data removed]",
      "text/plain": [
       "<Figure size 432x288 with 1 Axes>"
      ]
     },
     "metadata": {
      "needs_background": "light"
     },
     "output_type": "display_data"
    }
   ],
   "source": [
    "# As the features are in different units it is necessary to Standardize the features\n",
    "sc = StandardScaler()\n",
    "X_std = sc.fit_transform(X)\n",
    "pd.DataFrame(X_std).head()\n",
    "\n",
    "# Plot new features\n",
    "fig, axs = plt.subplots()\n",
    "axs.boxplot(X_std)\n",
    "plt.show()\n"
   ]
  },
  {
   "cell_type": "markdown",
   "metadata": {
    "colab_type": "text",
    "id": "2HWYM6OFfJmN"
   },
   "source": [
    "**Data Partitioning**\n",
    "\n",
    "\n",
    "```\n",
    "The data is split into Training and Testing data\n",
    "Training data : 80% (973)\n",
    "Testing data : 20% (244)\n",
    "```\n",
    "\n",
    "\n"
   ]
  },
  {
   "cell_type": "code",
   "execution_count": 14,
   "metadata": {
    "colab": {
     "base_uri": "https://localhost:8080/",
     "height": 34
    },
    "colab_type": "code",
    "id": "xP5L42vEdKyX",
    "outputId": "65b8c3fa-21cf-4f50-b32b-e0af5121d117"
   },
   "outputs": [
    {
     "data": {
      "text/plain": [
       "((973, 13), (244, 13))"
      ]
     },
     "execution_count": 14,
     "metadata": {},
     "output_type": "execute_result"
    }
   ],
   "source": [
    "#Split the data into Training and Testing set\n",
    "#Seed is fixed so that the splitting should be same each time\n",
    "np.random.seed(45)\n",
    "X_train,X_test,y_train,y_test = train_test_split(X_std,y_en,test_size=0.2,random_state=45)\n",
    "\n",
    "# Shape of training set\n",
    "X_train.shape,X_test.shape"
   ]
  },
  {
   "cell_type": "markdown",
   "metadata": {
    "colab_type": "text",
    "id": "uvgwXNCHgpdu"
   },
   "source": [
    "**Define Model**"
   ]
  },
  {
   "cell_type": "code",
   "execution_count": 15,
   "metadata": {
    "colab": {},
    "colab_type": "code",
    "id": "klknz1WcgTRL"
   },
   "outputs": [
    {
     "name": "stdout",
     "output_type": "stream",
     "text": [
      "WARNING:tensorflow:From C:\\Users\\stelaradmin\\Anaconda3\\lib\\site-packages\\keras\\backend\\tensorflow_backend.py:74: The name tf.get_default_graph is deprecated. Please use tf.compat.v1.get_default_graph instead.\n",
      "\n",
      "WARNING:tensorflow:From C:\\Users\\stelaradmin\\Anaconda3\\lib\\site-packages\\keras\\backend\\tensorflow_backend.py:517: The name tf.placeholder is deprecated. Please use tf.compat.v1.placeholder instead.\n",
      "\n",
      "WARNING:tensorflow:From C:\\Users\\stelaradmin\\Anaconda3\\lib\\site-packages\\keras\\backend\\tensorflow_backend.py:4138: The name tf.random_uniform is deprecated. Please use tf.random.uniform instead.\n",
      "\n"
     ]
    }
   ],
   "source": [
    "# Model selection\n",
    "model =Sequential()\n",
    "# Add layers\n",
    "model.add(Dense(9, input_dim=13, activation='relu'))\n",
    "model.add(Dense(5, activation='relu'))\n",
    "# Add softmax layer \n",
    "model.add(Dense(2, activation='softmax')) "
   ]
  },
  {
   "cell_type": "markdown",
   "metadata": {
    "colab_type": "text",
    "id": "wfIWV_wgjAAX"
   },
   "source": [
    "**Compile Model**"
   ]
  },
  {
   "cell_type": "code",
   "execution_count": 16,
   "metadata": {
    "colab": {},
    "colab_type": "code",
    "id": "7R5tSNmRhy7k"
   },
   "outputs": [
    {
     "name": "stdout",
     "output_type": "stream",
     "text": [
      "WARNING:tensorflow:From C:\\Users\\stelaradmin\\Anaconda3\\lib\\site-packages\\keras\\optimizers.py:790: The name tf.train.Optimizer is deprecated. Please use tf.compat.v1.train.Optimizer instead.\n",
      "\n",
      "WARNING:tensorflow:From C:\\Users\\stelaradmin\\Anaconda3\\lib\\site-packages\\keras\\backend\\tensorflow_backend.py:3376: The name tf.log is deprecated. Please use tf.math.log instead.\n",
      "\n",
      "WARNING:tensorflow:From C:\\Users\\stelaradmin\\Anaconda3\\lib\\site-packages\\tensorflow\\python\\ops\\nn_impl.py:180: add_dispatch_support.<locals>.wrapper (from tensorflow.python.ops.array_ops) is deprecated and will be removed in a future version.\n",
      "Instructions for updating:\n",
      "Use tf.where in 2.0, which has the same broadcast rule as np.where\n"
     ]
    }
   ],
   "source": [
    "model.compile(loss='binary_crossentropy', optimizer='adam', metrics=['accuracy'])"
   ]
  },
  {
   "cell_type": "markdown",
   "metadata": {
    "colab_type": "text",
    "id": "edEHp01fjvs_"
   },
   "source": [
    "**Summerize**"
   ]
  },
  {
   "cell_type": "code",
   "execution_count": 17,
   "metadata": {
    "colab": {
     "base_uri": "https://localhost:8080/",
     "height": 255
    },
    "colab_type": "code",
    "id": "0nSYsOK9kGa4",
    "outputId": "b39c054a-bd04-4c83-ee6e-348dab335f30"
   },
   "outputs": [
    {
     "name": "stdout",
     "output_type": "stream",
     "text": [
      "_________________________________________________________________\n",
      "Layer (type)                 Output Shape              Param #   \n",
      "=================================================================\n",
      "dense_1 (Dense)              (None, 9)                 126       \n",
      "_________________________________________________________________\n",
      "dense_2 (Dense)              (None, 5)                 50        \n",
      "_________________________________________________________________\n",
      "dense_3 (Dense)              (None, 2)                 12        \n",
      "=================================================================\n",
      "Total params: 188\n",
      "Trainable params: 188\n",
      "Non-trainable params: 0\n",
      "_________________________________________________________________\n"
     ]
    }
   ],
   "source": [
    "model.summary()"
   ]
  },
  {
   "cell_type": "markdown",
   "metadata": {
    "colab_type": "text",
    "id": "1h9iihU5jVre"
   },
   "source": [
    "**Deciding the Hyperparameters - Epoch and Batch Size**\n",
    "\n",
    "The model comes down to the lowest and stabalizes after 50 epochs\n",
    "\n",
    "The accuracy touches its highest value and stabalizes after 50 epochs"
   ]
  },
  {
   "cell_type": "code",
   "execution_count": 18,
   "metadata": {
    "colab": {
     "base_uri": "https://localhost:8080/",
     "height": 573
    },
    "colab_type": "code",
    "id": "4A0dRVwijfUP",
    "outputId": "65d88393-f899-471e-f9fa-f4c0408a29b6"
   },
   "outputs": [
    {
     "name": "stdout",
     "output_type": "stream",
     "text": [
      "WARNING:tensorflow:From C:\\Users\\stelaradmin\\Anaconda3\\lib\\site-packages\\keras\\backend\\tensorflow_backend.py:986: The name tf.assign_add is deprecated. Please use tf.compat.v1.assign_add instead.\n",
      "\n"
     ]
    },
    {
     "data": {
      "image/png": "[encoded data removed]",
      "text/plain": [
       "<Figure size 432x288 with 1 Axes>"
      ]
     },
     "metadata": {
      "needs_background": "light"
     },
     "output_type": "display_data"
    },
    {
     "data": {
      "image/png": "[encoded data removed]",
      "text/plain": [
       "<Figure size 432x288 with 1 Axes>"
      ]
     },
     "metadata": {
      "needs_background": "light"
     },
     "output_type": "display_data"
    }
   ],
   "source": [
    "history = model.fit(X_train,y_train,validation_split=0.20,epochs=75,batch_size=32,verbose=0)\n",
    "plt.plot(history.history['acc'])\n",
    "plt.plot(history.history['val_acc'])\n",
    "plt.title('Model Accuracy')\n",
    "plt.ylabel('Accuracy')\n",
    "plt.xlabel('Epoch')\n",
    "plt.legend(['Train', 'Validation'], loc='upper left')\n",
    "plt.show()\n",
    "# summarize history for loss\n",
    "plt.plot(history.history['loss'])\n",
    "plt.plot(history.history['val_loss'])\n",
    "plt.title('Model Loss')\n",
    "plt.ylabel('Loss')\n",
    "plt.xlabel('Epoch')\n",
    "plt.legend(['Train', 'Validation'], loc='upper left')\n",
    "plt.show()\n"
   ]
  },
  {
   "cell_type": "markdown",
   "metadata": {
    "colab_type": "text",
    "id": "SkuHq7FRq_Di"
   },
   "source": [
    "**Fitting the Model**"
   ]
  },
  {
   "cell_type": "code",
   "execution_count": 19,
   "metadata": {
    "colab": {
     "base_uri": "https://localhost:8080/",
     "height": 1000
    },
    "colab_type": "code",
    "id": "L4sSoL4JrGWZ",
    "outputId": "5ff109f9-de67-407e-d0c4-ee856e0805a0"
   },
   "outputs": [
    {
     "name": "stdout",
     "output_type": "stream",
     "text": [
      "Train on 875 samples, validate on 98 samples\n",
      "Epoch 1/50\n",
      "875/875 [==============================] - 0s 123us/step - loss: 0.1510 - acc: 0.9383 - val_loss: 0.1748 - val_acc: 0.9082\n",
      "Epoch 2/50\n",
      "875/875 [==============================] - 0s 119us/step - loss: 0.1506 - acc: 0.9337 - val_loss: 0.1759 - val_acc: 0.9082\n",
      "Epoch 3/50\n",
      "875/875 [==============================] - 0s 105us/step - loss: 0.1497 - acc: 0.9371 - val_loss: 0.1761 - val_acc: 0.9082\n",
      "Epoch 4/50\n",
      "875/875 [==============================] - 0s 106us/step - loss: 0.1495 - acc: 0.9349 - val_loss: 0.1759 - val_acc: 0.9082\n",
      "Epoch 5/50\n",
      "875/875 [==============================] - 0s 106us/step - loss: 0.1492 - acc: 0.9349 - val_loss: 0.1754 - val_acc: 0.9082\n",
      "Epoch 6/50\n",
      "875/875 [==============================] - 0s 106us/step - loss: 0.1497 - acc: 0.9349 - val_loss: 0.1758 - val_acc: 0.9082\n",
      "Epoch 7/50\n",
      "875/875 [==============================] - 0s 105us/step - loss: 0.1485 - acc: 0.9349 - val_loss: 0.1754 - val_acc: 0.9082\n",
      "Epoch 8/50\n",
      "875/875 [==============================] - 0s 102us/step - loss: 0.1477 - acc: 0.9371 - val_loss: 0.1739 - val_acc: 0.9082\n",
      "Epoch 9/50\n",
      "875/875 [==============================] - 0s 104us/step - loss: 0.1469 - acc: 0.9360 - val_loss: 0.1749 - val_acc: 0.9082\n",
      "Epoch 10/50\n",
      "875/875 [==============================] - 0s 108us/step - loss: 0.1469 - acc: 0.9371 - val_loss: 0.1749 - val_acc: 0.9082\n",
      "Epoch 11/50\n",
      "875/875 [==============================] - 0s 110us/step - loss: 0.1475 - acc: 0.9360 - val_loss: 0.1749 - val_acc: 0.9082\n",
      "Epoch 12/50\n",
      "875/875 [==============================] - 0s 104us/step - loss: 0.1464 - acc: 0.9337 - val_loss: 0.1743 - val_acc: 0.9082\n",
      "Epoch 13/50\n",
      "875/875 [==============================] - 0s 105us/step - loss: 0.1457 - acc: 0.9337 - val_loss: 0.1745 - val_acc: 0.9082\n",
      "Epoch 14/50\n",
      "875/875 [==============================] - 0s 112us/step - loss: 0.1468 - acc: 0.9371 - val_loss: 0.1708 - val_acc: 0.9082\n",
      "Epoch 15/50\n",
      "875/875 [==============================] - 0s 105us/step - loss: 0.1458 - acc: 0.9383 - val_loss: 0.1714 - val_acc: 0.9184\n",
      "Epoch 16/50\n",
      "875/875 [==============================] - 0s 107us/step - loss: 0.1456 - acc: 0.9349 - val_loss: 0.1702 - val_acc: 0.9184\n",
      "Epoch 17/50\n",
      "875/875 [==============================] - 0s 106us/step - loss: 0.1447 - acc: 0.9383 - val_loss: 0.1696 - val_acc: 0.9082\n",
      "Epoch 18/50\n",
      "875/875 [==============================] - 0s 107us/step - loss: 0.1445 - acc: 0.9394 - val_loss: 0.1705 - val_acc: 0.9082\n",
      "Epoch 19/50\n",
      "875/875 [==============================] - 0s 112us/step - loss: 0.1444 - acc: 0.9371 - val_loss: 0.1707 - val_acc: 0.9082\n",
      "Epoch 20/50\n",
      "875/875 [==============================] - 0s 106us/step - loss: 0.1440 - acc: 0.9383 - val_loss: 0.1696 - val_acc: 0.9082\n",
      "Epoch 21/50\n",
      "875/875 [==============================] - 0s 113us/step - loss: 0.1437 - acc: 0.9383 - val_loss: 0.1677 - val_acc: 0.9082\n",
      "Epoch 22/50\n",
      "875/875 [==============================] - 0s 108us/step - loss: 0.1442 - acc: 0.9394 - val_loss: 0.1690 - val_acc: 0.9184\n",
      "Epoch 23/50\n",
      "875/875 [==============================] - 0s 113us/step - loss: 0.1438 - acc: 0.9383 - val_loss: 0.1678 - val_acc: 0.9082\n",
      "Epoch 24/50\n",
      "875/875 [==============================] - 0s 106us/step - loss: 0.1434 - acc: 0.9383 - val_loss: 0.1704 - val_acc: 0.9082\n",
      "Epoch 25/50\n",
      "875/875 [==============================] - 0s 107us/step - loss: 0.1430 - acc: 0.9394 - val_loss: 0.1667 - val_acc: 0.9082\n",
      "Epoch 26/50\n",
      "875/875 [==============================] - 0s 111us/step - loss: 0.1425 - acc: 0.9394 - val_loss: 0.1657 - val_acc: 0.9082\n",
      "Epoch 27/50\n",
      "875/875 [==============================] - 0s 114us/step - loss: 0.1427 - acc: 0.9406 - val_loss: 0.1656 - val_acc: 0.9082\n",
      "Epoch 28/50\n",
      "875/875 [==============================] - 0s 114us/step - loss: 0.1419 - acc: 0.9406 - val_loss: 0.1669 - val_acc: 0.9082\n",
      "Epoch 29/50\n",
      "875/875 [==============================] - 0s 107us/step - loss: 0.1427 - acc: 0.9371 - val_loss: 0.1644 - val_acc: 0.9082\n",
      "Epoch 30/50\n",
      "875/875 [==============================] - 0s 110us/step - loss: 0.1424 - acc: 0.9383 - val_loss: 0.1648 - val_acc: 0.9082\n",
      "Epoch 31/50\n",
      "875/875 [==============================] - 0s 107us/step - loss: 0.1414 - acc: 0.9406 - val_loss: 0.1648 - val_acc: 0.9082\n",
      "Epoch 32/50\n",
      "875/875 [==============================] - 0s 107us/step - loss: 0.1410 - acc: 0.9383 - val_loss: 0.1646 - val_acc: 0.9184\n",
      "Epoch 33/50\n",
      "875/875 [==============================] - 0s 115us/step - loss: 0.1408 - acc: 0.9360 - val_loss: 0.1638 - val_acc: 0.9082\n",
      "Epoch 34/50\n",
      "875/875 [==============================] - 0s 115us/step - loss: 0.1407 - acc: 0.9394 - val_loss: 0.1628 - val_acc: 0.9082\n",
      "Epoch 35/50\n",
      "875/875 [==============================] - 0s 106us/step - loss: 0.1405 - acc: 0.9383 - val_loss: 0.1639 - val_acc: 0.9082\n",
      "Epoch 36/50\n",
      "875/875 [==============================] - 0s 106us/step - loss: 0.1406 - acc: 0.9417 - val_loss: 0.1642 - val_acc: 0.9082\n",
      "Epoch 37/50\n",
      "875/875 [==============================] - 0s 111us/step - loss: 0.1401 - acc: 0.9406 - val_loss: 0.1629 - val_acc: 0.9082\n",
      "Epoch 38/50\n",
      "875/875 [==============================] - 0s 113us/step - loss: 0.1397 - acc: 0.9394 - val_loss: 0.1630 - val_acc: 0.9082\n",
      "Epoch 39/50\n",
      "875/875 [==============================] - 0s 107us/step - loss: 0.1397 - acc: 0.9394 - val_loss: 0.1632 - val_acc: 0.9082\n",
      "Epoch 40/50\n",
      "875/875 [==============================] - 0s 105us/step - loss: 0.1392 - acc: 0.9383 - val_loss: 0.1627 - val_acc: 0.9184\n",
      "Epoch 41/50\n",
      "875/875 [==============================] - 0s 111us/step - loss: 0.1398 - acc: 0.9383 - val_loss: 0.1639 - val_acc: 0.9082\n",
      "Epoch 42/50\n",
      "875/875 [==============================] - 0s 104us/step - loss: 0.1385 - acc: 0.9440 - val_loss: 0.1629 - val_acc: 0.9082\n",
      "Epoch 43/50\n",
      "875/875 [==============================] - 0s 103us/step - loss: 0.1393 - acc: 0.9429 - val_loss: 0.1639 - val_acc: 0.9082\n",
      "Epoch 44/50\n",
      "875/875 [==============================] - 0s 103us/step - loss: 0.1384 - acc: 0.9406 - val_loss: 0.1639 - val_acc: 0.9184\n",
      "Epoch 45/50\n",
      "875/875 [==============================] - 0s 107us/step - loss: 0.1380 - acc: 0.9383 - val_loss: 0.1631 - val_acc: 0.9082\n",
      "Epoch 46/50\n",
      "875/875 [==============================] - 0s 108us/step - loss: 0.1377 - acc: 0.9406 - val_loss: 0.1618 - val_acc: 0.9082\n",
      "Epoch 47/50\n",
      "875/875 [==============================] - 0s 108us/step - loss: 0.1377 - acc: 0.9417 - val_loss: 0.1621 - val_acc: 0.9184\n",
      "Epoch 48/50\n",
      "875/875 [==============================] - 0s 108us/step - loss: 0.1372 - acc: 0.9406 - val_loss: 0.1628 - val_acc: 0.9082\n",
      "Epoch 49/50\n",
      "875/875 [==============================] - 0s 108us/step - loss: 0.1373 - acc: 0.9406 - val_loss: 0.1626 - val_acc: 0.9082\n",
      "Epoch 50/50\n",
      "875/875 [==============================] - 0s 111us/step - loss: 0.1369 - acc: 0.9394 - val_loss: 0.1619 - val_acc: 0.9184\n"
     ]
    },
    {
     "data": {
      "text/plain": [
       "<keras.callbacks.History at 0x1e00a456248>"
      ]
     },
     "execution_count": 19,
     "metadata": {},
     "output_type": "execute_result"
    }
   ],
   "source": [
    "# From the above plots it looks like that the accuracy and model loss stabalizes around 50 epochs so we will fit the model with these hyper parameters\n",
    "model.fit(X_train,y_train,validation_split=0.10,epochs=50,batch_size=32)"
   ]
  },
  {
   "cell_type": "markdown",
   "metadata": {
    "colab_type": "text",
    "id": "YuGPrmrVjtYW"
   },
   "source": [
    "**Evaluate the Model**"
   ]
  },
  {
   "cell_type": "code",
   "execution_count": 20,
   "metadata": {
    "colab": {
     "base_uri": "https://localhost:8080/",
     "height": 102
    },
    "colab_type": "code",
    "id": "1NgN3OU1jQ0E",
    "outputId": "7eb9ee4a-15ab-4a56-aa90-d2e18ae279eb"
   },
   "outputs": [
    {
     "name": "stdout",
     "output_type": "stream",
     "text": [
      "244/244 [==============================] - 0s 37us/step\n",
      "\n",
      "loss: 20.82%\n",
      "\n",
      "acc: 90.57%\n"
     ]
    }
   ],
   "source": [
    "# Evaluate the model on the Test dataset \n",
    "scores = model.evaluate(X_test, y_test)\n",
    "print(\"\\n%s: %.2f%%\" % (model.metrics_names[0], scores[0]*100))\n",
    "print(\"\\n%s: %.2f%%\" % (model.metrics_names[1], scores[1]*100))"
   ]
  },
  {
   "cell_type": "code",
   "execution_count": 21,
   "metadata": {
    "colab": {
     "base_uri": "https://localhost:8080/",
     "height": 204
    },
    "colab_type": "code",
    "id": "mdyC_UAFFmsQ",
    "outputId": "57e1b6a2-f6db-4acf-f290-e0afe5fbac06"
   },
   "outputs": [
    {
     "data": {
      "text/html": [
       "<div>\n",
       "<style scoped>\n",
       "    .dataframe tbody tr th:only-of-type {\n",
       "        vertical-align: middle;\n",
       "    }\n",
       "\n",
       "    .dataframe tbody tr th {\n",
       "        vertical-align: top;\n",
       "    }\n",
       "\n",
       "    .dataframe thead th {\n",
       "        text-align: right;\n",
       "    }\n",
       "</style>\n",
       "<table border=\"1\" class=\"dataframe\">\n",
       "  <thead>\n",
       "    <tr style=\"text-align: right;\">\n",
       "      <th></th>\n",
       "      <th>0</th>\n",
       "      <th>1</th>\n",
       "    </tr>\n",
       "  </thead>\n",
       "  <tbody>\n",
       "    <tr>\n",
       "      <td>0</td>\n",
       "      <td>0.999883</td>\n",
       "      <td>0.000117</td>\n",
       "    </tr>\n",
       "    <tr>\n",
       "      <td>1</td>\n",
       "      <td>0.999997</td>\n",
       "      <td>0.000003</td>\n",
       "    </tr>\n",
       "    <tr>\n",
       "      <td>2</td>\n",
       "      <td>0.999728</td>\n",
       "      <td>0.000272</td>\n",
       "    </tr>\n",
       "    <tr>\n",
       "      <td>3</td>\n",
       "      <td>0.999410</td>\n",
       "      <td>0.000590</td>\n",
       "    </tr>\n",
       "    <tr>\n",
       "      <td>4</td>\n",
       "      <td>0.990622</td>\n",
       "      <td>0.009378</td>\n",
       "    </tr>\n",
       "  </tbody>\n",
       "</table>\n",
       "</div>"
      ],
      "text/plain": [
       "          0         1\n",
       "0  0.999883  0.000117\n",
       "1  0.999997  0.000003\n",
       "2  0.999728  0.000272\n",
       "3  0.999410  0.000590\n",
       "4  0.990622  0.009378"
      ]
     },
     "execution_count": 21,
     "metadata": {},
     "output_type": "execute_result"
    }
   ],
   "source": [
    "# predict probabilities for test set\n",
    "yhat_probs = model.predict(X_test, verbose=0)\n",
    "pd.DataFrame(yhat_probs).head()"
   ]
  },
  {
   "cell_type": "code",
   "execution_count": 22,
   "metadata": {
    "colab": {
     "base_uri": "https://localhost:8080/",
     "height": 204
    },
    "colab_type": "code",
    "id": "Uo3lessKkUcw",
    "outputId": "136c2057-4edb-4519-b635-60e94bb17326"
   },
   "outputs": [
    {
     "data": {
      "text/html": [
       "<div>\n",
       "<style scoped>\n",
       "    .dataframe tbody tr th:only-of-type {\n",
       "        vertical-align: middle;\n",
       "    }\n",
       "\n",
       "    .dataframe tbody tr th {\n",
       "        vertical-align: top;\n",
       "    }\n",
       "\n",
       "    .dataframe thead th {\n",
       "        text-align: right;\n",
       "    }\n",
       "</style>\n",
       "<table border=\"1\" class=\"dataframe\">\n",
       "  <thead>\n",
       "    <tr style=\"text-align: right;\">\n",
       "      <th></th>\n",
       "      <th>0</th>\n",
       "    </tr>\n",
       "  </thead>\n",
       "  <tbody>\n",
       "    <tr>\n",
       "      <td>0</td>\n",
       "      <td>0</td>\n",
       "    </tr>\n",
       "    <tr>\n",
       "      <td>1</td>\n",
       "      <td>0</td>\n",
       "    </tr>\n",
       "    <tr>\n",
       "      <td>2</td>\n",
       "      <td>0</td>\n",
       "    </tr>\n",
       "    <tr>\n",
       "      <td>3</td>\n",
       "      <td>0</td>\n",
       "    </tr>\n",
       "    <tr>\n",
       "      <td>4</td>\n",
       "      <td>0</td>\n",
       "    </tr>\n",
       "  </tbody>\n",
       "</table>\n",
       "</div>"
      ],
      "text/plain": [
       "   0\n",
       "0  0\n",
       "1  0\n",
       "2  0\n",
       "3  0\n",
       "4  0"
      ]
     },
     "execution_count": 22,
     "metadata": {},
     "output_type": "execute_result"
    }
   ],
   "source": [
    "# predict  classes for test set\n",
    "yhat_classes = model.predict_classes(X_test, verbose=0)\n",
    "pd.DataFrame(yhat_classes).head()"
   ]
  },
  {
   "cell_type": "code",
   "execution_count": 23,
   "metadata": {
    "colab": {
     "base_uri": "https://localhost:8080/",
     "height": 204
    },
    "colab_type": "code",
    "id": "UU1KKvDBFymo",
    "outputId": "e22f50ee-6a6f-48be-f2d6-9f01a65b9151",
    "scrolled": true
   },
   "outputs": [
    {
     "data": {
      "text/html": [
       "<div>\n",
       "<style scoped>\n",
       "    .dataframe tbody tr th:only-of-type {\n",
       "        vertical-align: middle;\n",
       "    }\n",
       "\n",
       "    .dataframe tbody tr th {\n",
       "        vertical-align: top;\n",
       "    }\n",
       "\n",
       "    .dataframe thead th {\n",
       "        text-align: right;\n",
       "    }\n",
       "</style>\n",
       "<table border=\"1\" class=\"dataframe\">\n",
       "  <thead>\n",
       "    <tr style=\"text-align: right;\">\n",
       "      <th></th>\n",
       "      <th>0</th>\n",
       "      <th>1</th>\n",
       "    </tr>\n",
       "  </thead>\n",
       "  <tbody>\n",
       "    <tr>\n",
       "      <td>0</td>\n",
       "      <td>1.0</td>\n",
       "      <td>0.0</td>\n",
       "    </tr>\n",
       "    <tr>\n",
       "      <td>1</td>\n",
       "      <td>1.0</td>\n",
       "      <td>0.0</td>\n",
       "    </tr>\n",
       "    <tr>\n",
       "      <td>2</td>\n",
       "      <td>1.0</td>\n",
       "      <td>0.0</td>\n",
       "    </tr>\n",
       "    <tr>\n",
       "      <td>3</td>\n",
       "      <td>1.0</td>\n",
       "      <td>0.0</td>\n",
       "    </tr>\n",
       "    <tr>\n",
       "      <td>4</td>\n",
       "      <td>1.0</td>\n",
       "      <td>0.0</td>\n",
       "    </tr>\n",
       "  </tbody>\n",
       "</table>\n",
       "</div>"
      ],
      "text/plain": [
       "     0    1\n",
       "0  1.0  0.0\n",
       "1  1.0  0.0\n",
       "2  1.0  0.0\n",
       "3  1.0  0.0\n",
       "4  1.0  0.0"
      ]
     },
     "execution_count": 23,
     "metadata": {},
     "output_type": "execute_result"
    }
   ],
   "source": [
    "yhat_classes = yhat_classes.reshape(len(yhat_classes), 1)\n",
    "yhat_classes = ohe.fit_transform(yhat_classes)\n",
    "pd.DataFrame(yhat_classes).head()"
   ]
  },
  {
   "cell_type": "markdown",
   "metadata": {
    "colab_type": "text",
    "id": "0kZa-D45K1K8"
   },
   "source": [
    "**1. What is the accuracy, Precision, and Recall for each class prediction?**\n",
    "    \n",
    "\n",
    "\n",
    "```\n",
    "Overall Accuracy:  90.57377039409074\n",
    "Overall Loss:  20.81918077634983\n",
    "\n",
    "Class 0\n",
    "Accuracy: 0.905738\n",
    "Precision: 0.927184\n",
    "Recall: 0.959799\n",
    "F1 score: 0.943210\n",
    "\n",
    "Class 1\n",
    "Accuracy: 0.905738\n",
    "Precision: 0.789474\n",
    "Recall: 0.666667\n",
    "F1 score: 0.722892\n",
    "\n",
    "```\n",
    "\n",
    "    \n",
    "\n"
   ]
  },
  {
   "cell_type": "code",
   "execution_count": 24,
   "metadata": {
    "colab": {
     "base_uri": "https://localhost:8080/",
     "height": 442
    },
    "colab_type": "code",
    "id": "5GgWuX9eF9J3",
    "outputId": "15e038e1-adce-4f6d-ab96-6f2324d63854"
   },
   "outputs": [
    {
     "name": "stdout",
     "output_type": "stream",
     "text": [
      "Overall Accuracy:  90.57377039409074\n",
      "Overall Loss:  20.81918077634983\n",
      "\n",
      "Class 0\n",
      "Accuracy: 0.905738\n",
      "Precision: 0.927184\n",
      "Recall: 0.959799\n",
      "F1 score: 0.943210\n",
      "\n",
      "Class 1\n",
      "Accuracy: 0.905738\n",
      "Precision: 0.789474\n",
      "Recall: 0.666667\n",
      "F1 score: 0.722892\n",
      "\n",
      "              precision    recall  f1-score   support\n",
      "\n",
      "           0       0.93      0.96      0.94       199\n",
      "           1       0.79      0.67      0.72        45\n",
      "\n",
      "   micro avg       0.91      0.91      0.91       244\n",
      "   macro avg       0.86      0.81      0.83       244\n",
      "weighted avg       0.90      0.91      0.90       244\n",
      " samples avg       0.91      0.91      0.91       244\n",
      "\n"
     ]
    }
   ],
   "source": [
    "# Accuracy\n",
    "print(\"Overall Accuracy: \", scores[1]*100)\n",
    "# Loss\n",
    "print(\"Overall Loss: \", scores[0]*100)\n",
    "\n",
    "print()\n",
    "# for class 0\n",
    "print(\"Class 0\")\n",
    "# accuracy: (tp + tn) / (p + n)\n",
    "accuracy = accuracy_score(y_test[:,0], yhat_classes[:,0])\n",
    "print('Accuracy: %f' % accuracy)\n",
    "# precision tp / (tp + fp)\n",
    "precision = precision_score(y_test[:,0],  yhat_classes[:,0])\n",
    "print('Precision: %f' % precision)\n",
    "# recall: tp / (tp + fn)\n",
    "recall = recall_score(y_test[:,0],  yhat_classes[:,0])\n",
    "print('Recall: %f' % recall)\n",
    "# f1: 2 tp / (2 tp + fp + fn)\n",
    "f1 = f1_score(y_test[:,0],  yhat_classes[:,0])\n",
    "print('F1 score: %f' % f1)\n",
    "\n",
    "print()\n",
    "# for class 1\n",
    "print(\"Class 1\")\n",
    "# accuracy: (tp + tn) / (p + n)\n",
    "accuracy = accuracy_score(y_test[:,1], yhat_classes[:,1])\n",
    "print('Accuracy: %f' % accuracy)\n",
    "# precision tp / (tp + fp)\n",
    "precision = precision_score(y_test[:,1],  yhat_classes[:,1])\n",
    "print('Precision: %f' % precision)\n",
    "# recall: tp / (tp + fn)\n",
    "recall = recall_score(y_test[:,1],  yhat_classes[:,1])\n",
    "print('Recall: %f' % recall)\n",
    "# f1: 2 tp / (2 tp + fp + fn)\n",
    "f1 = f1_score(y_test[:,1],  yhat_classes[:,1])\n",
    "print('F1 score: %f' % f1)\n",
    "print()\n",
    "\n",
    "# Precison, Recall and F-1 score\n",
    "print(classification_report(y_test, yhat_classes))\n",
    "\n"
   ]
  },
  {
   "cell_type": "markdown",
   "metadata": {
    "colab_type": "text",
    "id": "1fhwrX9LN2Rd"
   },
   "source": [
    "**2. Create an ROC curve plot for each class prediction.**\n",
    "\n",
    "\n",
    "```\n",
    "The ROC curve is convincing \n",
    "AUC Class 0: 0.958\n",
    "AUC Class 1: 0.958\n",
    "\n",
    "```\n",
    "\n"
   ]
  },
  {
   "cell_type": "code",
   "execution_count": 25,
   "metadata": {
    "colab": {
     "base_uri": "https://localhost:8080/",
     "height": 607
    },
    "colab_type": "code",
    "id": "vyies7oifOfK",
    "outputId": "cacd74b2-1960-4b6a-c1e0-ea8b20c30e20"
   },
   "outputs": [
    {
     "data": {
      "image/png": "[encoded data removed]",
      "text/plain": [
       "<Figure size 432x288 with 1 Axes>"
      ]
     },
     "metadata": {
      "needs_background": "light"
     },
     "output_type": "display_data"
    },
    {
     "name": "stdout",
     "output_type": "stream",
     "text": [
      "AUC Class 0: 0.958\n"
     ]
    },
    {
     "data": {
      "image/png": "[encoded data removed]",
      "text/plain": [
       "<Figure size 432x288 with 1 Axes>"
      ]
     },
     "metadata": {
      "needs_background": "light"
     },
     "output_type": "display_data"
    },
    {
     "name": "stdout",
     "output_type": "stream",
     "text": [
      "AUC Class 0: 0.958\n"
     ]
    }
   ],
   "source": [
    "# calculate roc curve\n",
    "\n",
    "#Class 0\n",
    "fpr_c0, tpr_c0, thresholds_c0 = roc_curve(y_test[:,0], yhat_probs[:,0])\n",
    "# plot no skill\n",
    "plt.plot([0, 1], [0, 1], linestyle='-')\n",
    "# plot the roc curve for the model\n",
    "plt.plot(fpr_c0, tpr_c0, marker='.')\n",
    "plt.title('ROC for Class 0')\n",
    "plt.xlabel('FPR')\n",
    "plt.ylabel('TPR')\n",
    "# show the plot\n",
    "plt.show()\n",
    "\n",
    "\n",
    "# calculate AUC\n",
    "auc_c0 = roc_auc_score(y_test[:,0], yhat_probs[:,0])\n",
    "print('AUC Class 0: %.3f' % auc_c0)\n",
    "\n",
    "#Class 1\n",
    "fpr_c1, tpr_c1, thresholds_c1 = roc_curve(y_test[:,1], yhat_probs[:,1])\n",
    "# plot no skill\n",
    "plt.plot([0, 1], [0, 1], linestyle='-')\n",
    "# plot the roc curve for the model\n",
    "plt.plot(fpr_c1, tpr_c1, marker='.')\n",
    "plt.title('ROC for Class 1')\n",
    "plt.xlabel('FPR')\n",
    "plt.ylabel('TPR')\n",
    "# show the plot\n",
    "plt.show()\n",
    "\n",
    "# calculate AUC\n",
    "auc_c1 = roc_auc_score(y_test[:,1], yhat_probs[:,1])\n",
    "print('AUC Class 0: %.3f' % auc_c1)"
   ]
  },
  {
   "cell_type": "code",
   "execution_count": null,
   "metadata": {
    "colab": {},
    "colab_type": "code",
    "id": "2V9HfNqiGd5X"
   },
   "outputs": [],
   "source": []
  },
  {
   "cell_type": "code",
   "execution_count": null,
   "metadata": {},
   "outputs": [],
   "source": []
  },
  {
   "cell_type": "code",
   "execution_count": null,
   "metadata": {},
   "outputs": [],
   "source": []
  }
 ],
 "metadata": {
  "colab": {
   "collapsed_sections": [],
   "name": "a2",
   "provenance": []
  },
  "kernelspec": {
   "display_name": "Python 3",
   "language": "python",
   "name": "python3"
  },
  "language_info": {
   "codemirror_mode": {
    "name": "ipython",
    "version": 3
   },
   "file_extension": ".py",
   "mimetype": "text/x-python",
   "name": "python",
   "nbconvert_exporter": "python",
   "pygments_lexer": "ipython3",
   "version": "3.7.4"
  }
 },
 "nbformat": 4,
 "nbformat_minor": 1
}
